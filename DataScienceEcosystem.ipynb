{
 "cells": [
  {
   "cell_type": "markdown",
   "metadata": {},
   "source": [
    "<center>\n",
    "    <img src=\"https://cf-courses-data.s3.us.cloud-object-storage.appdomain.cloud/IBMDeveloperSkillsNetwork-DS0105EN-SkillsNetwork/labs/Module2/images/SN_web_lightmode.png\" width=\"300\" alt=\"cognitiveclass.ai logo\">\n",
    "</center>\n"
   ]
  },
  {
   "cell_type": "markdown",
   "metadata": {},
   "source": [
    "<h1>Data Science Tools and Ecosystem</h1>"
   ]
  },
  {
   "cell_type": "markdown",
   "metadata": {},
   "source": [
    "In this notebook, Data Science Tools and Ecosystems are summarized"
   ]
  },
  {
   "cell_type": "raw",
   "metadata": {},
   "source": [
    "Some of the popular languages that Data Scientists use:\n",
    "1. Python\n",
    "2. R\n",
    "3. SQL"
   ]
  },
  {
   "cell_type": "markdown",
   "metadata": {},
   "source": [
    "# libraries used by data scientists:\n",
    "\n",
    "1. NumPy: For numerical operations and arrays.\n",
    "2. Pandas: For data manipulation and analysis.\n",
    "3. Matplotlib: For creating visualizations.\n",
    "4. Seaborn: For statistical data visualization.\n",
    "5. Scikit-learn: For machine learning algorithms.\n",
    "6. TensorFlow: For deep learning.\n",
    "7. PyTorch: For deep learning.\n",
    "8. Keras: High-level API for deep learning.\n",
    "9. PySpark: For Apache Spark integration.\n",
    "10. NLTK: For natural language processing.\n",
    "11. Plotly: For interactive plotting.\n",
    "12. Scipy: For scientific computing."
   ]
  },
  {
   "cell_type": "markdown",
   "metadata": {},
   "source": [
    "<table border=\"1\">\n",
    "        <tr>\n",
    "            <th>Data Science Tools</th>\n",
    "        </tr>\n",
    "        <tr>\n",
    "            <td>Jupyter Notebook</td>\n",
    "        </tr>\n",
    "        <tr>\n",
    "            <td>R Studio</td>\n",
    "        </tr>\n",
    "        <tr>\n",
    "            <td>Visual Studio Code</td>\n",
    "        </tr>\n",
    "    </table>"
   ]
  },
  {
   "cell_type": "markdown",
   "metadata": {},
   "source": [
    "<h3>Below are few examples of evaluating arithmetic expressions in Python</h3>"
   ]
  },
  {
   "cell_type": "code",
   "execution_count": 3,
   "metadata": {},
   "outputs": [
    {
     "name": "stdout",
     "output_type": "stream",
     "text": [
      "17\n"
     ]
    }
   ],
   "source": [
    "# This is a simple arithmetic expression to multiply then add integer\n",
    "print((3*4)+5)"
   ]
  },
  {
   "cell_type": "code",
   "execution_count": 7,
   "metadata": {},
   "outputs": [
    {
     "name": "stdin",
     "output_type": "stream",
     "text": [
      "Please Enter the number of minutes you wish to convert:  200\n"
     ]
    },
    {
     "name": "stdout",
     "output_type": "stream",
     "text": [
      "3 Hours & 20 Minutes\n"
     ]
    }
   ],
   "source": [
    "# This will convert 200 minutes to hours by dividing it by 60.\n",
    "duration=input(\"Please Enter the number of minutes you wish to convert: \")\n",
    "minutes=int(duration)\n",
    "hours=minutes//60\n",
    "minutes_remaining=minutes%60\n",
    "\n",
    "print(hours,\"Hours\",\"&\",minutes_remaining,\"Minutes\")"
   ]
  },
  {
   "cell_type": "markdown",
   "metadata": {},
   "source": [
    "<strong>Objectives</strong>\n",
    "<ul>\n",
    "    <li>Languages used in Data Science</li>\n",
    "    <li>Libraries Used by Data Scientists</li>\n",
    "    <li>Data Science Tools Table</li>\n",
    "    <li>Code to Simplify Arithmetic Expression</li>\n",
    "    <li>Code to Convert Minutes into Hours</li>\n",
    "</ul>"
   ]
  },
  {
   "cell_type": "markdown",
   "metadata": {},
   "source": [
    "<h2>Author</h2>\n",
    "Muhammad Shariq"
   ]
  },
  {
   "cell_type": "code",
   "execution_count": null,
   "metadata": {},
   "outputs": [],
   "source": []
  }
 ],
 "metadata": {
  "kernelspec": {
   "display_name": "Python 3 (ipykernel)",
   "language": "python",
   "name": "python3"
  },
  "language_info": {
   "codemirror_mode": {
    "name": "ipython",
    "version": 3
   },
   "file_extension": ".py",
   "mimetype": "text/x-python",
   "name": "python",
   "nbconvert_exporter": "python",
   "pygments_lexer": "ipython3",
   "version": "3.12.4"
  }
 },
 "nbformat": 4,
 "nbformat_minor": 4
}
